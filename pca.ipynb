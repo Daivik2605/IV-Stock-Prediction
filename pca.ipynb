{
 "cells": [
  {
   "cell_type": "markdown",
   "id": "821f100b",
   "metadata": {},
   "source": [
    "### Use Dimension Reduction PCA to rank the importance of each feature"
   ]
  },
  {
   "cell_type": "markdown",
   "id": "feb35f9c",
   "metadata": {},
   "source": [
    "#### What we need to do step by step\n",
    "- Before doing this we need to clean the data so we can aplly the PCA\n",
    "1. Apply PCA to your dataset to reduce the dimensionality and identify the most important features.\n",
    "2. Calculate the cumulative explained variance ratio for each principal component.\n",
    "3. Identify the features that contribute to 90% of the information in the dataset.\n",
    "4. Create a new model that only uses these important features.\n",
    "5. Compare the performance of the new model with your previous model (Activity 2)."
   ]
  },
  {
   "cell_type": "code",
   "execution_count": 1,
   "id": "d896e421",
   "metadata": {},
   "outputs": [],
   "source": [
    "import pandas as pd\n",
    "import numpy as np\n",
    "from sklearn.decomposition import PCA\n",
    "from sklearn.metrics import mean_squared_error, r2_score\n",
    "from sklearn.model_selection import train_test_split\n",
    "from sklearn.ensemble import RandomForestRegressor"
   ]
  },
  {
   "cell_type": "code",
   "execution_count": 2,
   "id": "5d2fa73d",
   "metadata": {},
   "outputs": [],
   "source": [
    "df = pd.read_csv('C:\\\\Users\\\\daivi\\\\Desktop\\\\CBD 2214 Big Data Fundamentals\\\\In Class Assignment\\\\Group 5 - In class Activity 3\\\\week5 inclass.csv')"
   ]
  },
  {
   "cell_type": "code",
   "execution_count": 3,
   "id": "52eaa20b",
   "metadata": {},
   "outputs": [
    {
     "data": {
      "text/html": [
       "<div>\n",
       "<style scoped>\n",
       "    .dataframe tbody tr th:only-of-type {\n",
       "        vertical-align: middle;\n",
       "    }\n",
       "\n",
       "    .dataframe tbody tr th {\n",
       "        vertical-align: top;\n",
       "    }\n",
       "\n",
       "    .dataframe thead th {\n",
       "        text-align: right;\n",
       "    }\n",
       "</style>\n",
       "<table border=\"1\" class=\"dataframe\">\n",
       "  <thead>\n",
       "    <tr style=\"text-align: right;\">\n",
       "      <th></th>\n",
       "      <th>symbol</th>\n",
       "      <th>exchange</th>\n",
       "      <th>date</th>\n",
       "      <th>adjusted close</th>\n",
       "      <th>option symbol</th>\n",
       "      <th>expiration</th>\n",
       "      <th>strike</th>\n",
       "      <th>call/put</th>\n",
       "      <th>style</th>\n",
       "      <th>ask</th>\n",
       "      <th>...</th>\n",
       "      <th>iv</th>\n",
       "      <th>volume</th>\n",
       "      <th>open interest</th>\n",
       "      <th>stock price for iv</th>\n",
       "      <th>*</th>\n",
       "      <th>delta</th>\n",
       "      <th>vega</th>\n",
       "      <th>gamma</th>\n",
       "      <th>theta</th>\n",
       "      <th>rho</th>\n",
       "    </tr>\n",
       "  </thead>\n",
       "  <tbody>\n",
       "    <tr>\n",
       "      <th>0</th>\n",
       "      <td>SPY</td>\n",
       "      <td>NYSEArca</td>\n",
       "      <td>07/30/2021</td>\n",
       "      <td>438.51</td>\n",
       "      <td>SPY   210730C00215000</td>\n",
       "      <td>07/30/2021</td>\n",
       "      <td>215.0</td>\n",
       "      <td>C</td>\n",
       "      <td>A</td>\n",
       "      <td>224.56</td>\n",
       "      <td>...</td>\n",
       "      <td>-1.0</td>\n",
       "      <td>0</td>\n",
       "      <td>0</td>\n",
       "      <td>438.97</td>\n",
       "      <td>NaN</td>\n",
       "      <td>0.0</td>\n",
       "      <td>0.0</td>\n",
       "      <td>0.0</td>\n",
       "      <td>0.0</td>\n",
       "      <td>0.0</td>\n",
       "    </tr>\n",
       "    <tr>\n",
       "      <th>1</th>\n",
       "      <td>SPY</td>\n",
       "      <td>NYSEArca</td>\n",
       "      <td>07/30/2021</td>\n",
       "      <td>438.51</td>\n",
       "      <td>SPY   210730P00215000</td>\n",
       "      <td>07/30/2021</td>\n",
       "      <td>215.0</td>\n",
       "      <td>P</td>\n",
       "      <td>A</td>\n",
       "      <td>0.01</td>\n",
       "      <td>...</td>\n",
       "      <td>-1.0</td>\n",
       "      <td>0</td>\n",
       "      <td>1401</td>\n",
       "      <td>438.97</td>\n",
       "      <td>NaN</td>\n",
       "      <td>0.0</td>\n",
       "      <td>0.0</td>\n",
       "      <td>0.0</td>\n",
       "      <td>0.0</td>\n",
       "      <td>0.0</td>\n",
       "    </tr>\n",
       "    <tr>\n",
       "      <th>2</th>\n",
       "      <td>SPY</td>\n",
       "      <td>NYSEArca</td>\n",
       "      <td>07/30/2021</td>\n",
       "      <td>438.51</td>\n",
       "      <td>SPY   210730C00220000</td>\n",
       "      <td>07/30/2021</td>\n",
       "      <td>220.0</td>\n",
       "      <td>C</td>\n",
       "      <td>A</td>\n",
       "      <td>219.56</td>\n",
       "      <td>...</td>\n",
       "      <td>-1.0</td>\n",
       "      <td>0</td>\n",
       "      <td>1</td>\n",
       "      <td>438.97</td>\n",
       "      <td>NaN</td>\n",
       "      <td>0.0</td>\n",
       "      <td>0.0</td>\n",
       "      <td>0.0</td>\n",
       "      <td>0.0</td>\n",
       "      <td>0.0</td>\n",
       "    </tr>\n",
       "    <tr>\n",
       "      <th>3</th>\n",
       "      <td>SPY</td>\n",
       "      <td>NYSEArca</td>\n",
       "      <td>07/30/2021</td>\n",
       "      <td>438.51</td>\n",
       "      <td>SPY   210730P00220000</td>\n",
       "      <td>07/30/2021</td>\n",
       "      <td>220.0</td>\n",
       "      <td>P</td>\n",
       "      <td>A</td>\n",
       "      <td>0.01</td>\n",
       "      <td>...</td>\n",
       "      <td>-1.0</td>\n",
       "      <td>50</td>\n",
       "      <td>328</td>\n",
       "      <td>438.97</td>\n",
       "      <td>NaN</td>\n",
       "      <td>0.0</td>\n",
       "      <td>0.0</td>\n",
       "      <td>0.0</td>\n",
       "      <td>0.0</td>\n",
       "      <td>0.0</td>\n",
       "    </tr>\n",
       "    <tr>\n",
       "      <th>4</th>\n",
       "      <td>SPY</td>\n",
       "      <td>NYSEArca</td>\n",
       "      <td>07/30/2021</td>\n",
       "      <td>438.51</td>\n",
       "      <td>SPY   210730C00225000</td>\n",
       "      <td>07/30/2021</td>\n",
       "      <td>225.0</td>\n",
       "      <td>C</td>\n",
       "      <td>A</td>\n",
       "      <td>214.56</td>\n",
       "      <td>...</td>\n",
       "      <td>-1.0</td>\n",
       "      <td>0</td>\n",
       "      <td>0</td>\n",
       "      <td>438.97</td>\n",
       "      <td>NaN</td>\n",
       "      <td>0.0</td>\n",
       "      <td>0.0</td>\n",
       "      <td>0.0</td>\n",
       "      <td>0.0</td>\n",
       "      <td>0.0</td>\n",
       "    </tr>\n",
       "  </tbody>\n",
       "</table>\n",
       "<p>5 rows × 22 columns</p>\n",
       "</div>"
      ],
      "text/plain": [
       "  symbol  exchange        date  adjusted close          option symbol  \\\n",
       "0    SPY  NYSEArca  07/30/2021          438.51  SPY   210730C00215000   \n",
       "1    SPY  NYSEArca  07/30/2021          438.51  SPY   210730P00215000   \n",
       "2    SPY  NYSEArca  07/30/2021          438.51  SPY   210730C00220000   \n",
       "3    SPY  NYSEArca  07/30/2021          438.51  SPY   210730P00220000   \n",
       "4    SPY  NYSEArca  07/30/2021          438.51  SPY   210730C00225000   \n",
       "\n",
       "   expiration  strike call/put style     ask  ...   iv  volume  open interest  \\\n",
       "0  07/30/2021   215.0        C     A  224.56  ... -1.0       0              0   \n",
       "1  07/30/2021   215.0        P     A    0.01  ... -1.0       0           1401   \n",
       "2  07/30/2021   220.0        C     A  219.56  ... -1.0       0              1   \n",
       "3  07/30/2021   220.0        P     A    0.01  ... -1.0      50            328   \n",
       "4  07/30/2021   225.0        C     A  214.56  ... -1.0       0              0   \n",
       "\n",
       "   stock price for iv    *  delta vega  gamma  theta  rho  \n",
       "0              438.97  NaN    0.0  0.0    0.0    0.0  0.0  \n",
       "1              438.97  NaN    0.0  0.0    0.0    0.0  0.0  \n",
       "2              438.97  NaN    0.0  0.0    0.0    0.0  0.0  \n",
       "3              438.97  NaN    0.0  0.0    0.0    0.0  0.0  \n",
       "4              438.97  NaN    0.0  0.0    0.0    0.0  0.0  \n",
       "\n",
       "[5 rows x 22 columns]"
      ]
     },
     "execution_count": 3,
     "metadata": {},
     "output_type": "execute_result"
    }
   ],
   "source": [
    "df.head()"
   ]
  },
  {
   "cell_type": "markdown",
   "id": "22f99579",
   "metadata": {},
   "source": [
    "### Processing and Cleaning Data"
   ]
  },
  {
   "cell_type": "code",
   "execution_count": 4,
   "id": "7dd978b6",
   "metadata": {},
   "outputs": [
    {
     "data": {
      "text/plain": [
       "symbol                     0\n",
       "exchange                   0\n",
       "date                       0\n",
       "adjusted close             0\n",
       "option symbol              0\n",
       "expiration                 0\n",
       "strike                     0\n",
       "call/put                   0\n",
       "style                      0\n",
       "ask                        0\n",
       "bid                        0\n",
       "mean price                 0\n",
       "iv                         0\n",
       "volume                     0\n",
       "open interest              0\n",
       "stock price for iv         0\n",
       "*                     192007\n",
       "delta                      0\n",
       "vega                       0\n",
       "gamma                      0\n",
       "theta                      0\n",
       "rho                        0\n",
       "dtype: int64"
      ]
     },
     "execution_count": 4,
     "metadata": {},
     "output_type": "execute_result"
    }
   ],
   "source": [
    "# Check for missing values\n",
    "df.isnull().sum()"
   ]
  },
  {
   "cell_type": "code",
   "execution_count": 5,
   "id": "bf6d2ed0",
   "metadata": {},
   "outputs": [
    {
     "data": {
      "text/plain": [
       "Index(['symbol', 'exchange', 'date', 'adjusted close', 'option symbol',\n",
       "       'expiration', 'strike', 'call/put', 'style', 'ask', 'bid', 'mean price',\n",
       "       'iv', 'volume', 'open interest', 'stock price for iv', 'delta', 'vega',\n",
       "       'gamma', 'theta', 'rho'],\n",
       "      dtype='object')"
      ]
     },
     "execution_count": 5,
     "metadata": {},
     "output_type": "execute_result"
    }
   ],
   "source": [
    "# Dropping the column * as it is redundant column and mostly contain empty value\n",
    "df.drop('*', axis=1, inplace=True)\n",
    "\n",
    "# Checking for available columns\n",
    "df.columns"
   ]
  },
  {
   "cell_type": "code",
   "execution_count": 6,
   "id": "24f188ef",
   "metadata": {},
   "outputs": [
    {
     "name": "stdout",
     "output_type": "stream",
     "text": [
      "0\n"
     ]
    }
   ],
   "source": [
    "# Check for duplicates\n",
    "print(df.duplicated().sum())"
   ]
  },
  {
   "cell_type": "markdown",
   "id": "fbd189f2",
   "metadata": {},
   "source": [
    "#### As we can see there are no duplicate value so we don't need to drop any duplicate value"
   ]
  },
  {
   "cell_type": "code",
   "execution_count": 7,
   "id": "505af736",
   "metadata": {},
   "outputs": [
    {
     "name": "stdout",
     "output_type": "stream",
     "text": [
      "symbol                 object\n",
      "exchange               object\n",
      "date                   object\n",
      "adjusted close        float64\n",
      "option symbol          object\n",
      "expiration             object\n",
      "strike                float64\n",
      "call/put               object\n",
      "style                  object\n",
      "ask                   float64\n",
      "bid                   float64\n",
      "mean price            float64\n",
      "iv                    float64\n",
      "volume                  int64\n",
      "open interest           int64\n",
      "stock price for iv    float64\n",
      "delta                 float64\n",
      "vega                  float64\n",
      "gamma                 float64\n",
      "theta                 float64\n",
      "rho                   float64\n",
      "dtype: object\n"
     ]
    }
   ],
   "source": [
    "# Checking the data types\n",
    "print(df.dtypes)"
   ]
  },
  {
   "cell_type": "markdown",
   "id": "c2bb34dd",
   "metadata": {},
   "source": [
    "#### As we can see that we need to change the datatype of date and expiration feature(Column)"
   ]
  },
  {
   "cell_type": "code",
   "execution_count": 8,
   "id": "85ea5d98",
   "metadata": {},
   "outputs": [],
   "source": [
    "# Convert date column to datetime format\n",
    "df['date'] = pd.to_datetime(df['date'])\n",
    "\n",
    "# We also need to convert expiration column to datetime\n",
    "df['expiration'] = pd.to_datetime(df['expiration'])"
   ]
  },
  {
   "cell_type": "code",
   "execution_count": 9,
   "id": "7265988a",
   "metadata": {
    "scrolled": true
   },
   "outputs": [
    {
     "name": "stdout",
     "output_type": "stream",
     "text": [
      "symbol                        object\n",
      "exchange                      object\n",
      "date                  datetime64[ns]\n",
      "adjusted close               float64\n",
      "option symbol                 object\n",
      "expiration            datetime64[ns]\n",
      "strike                       float64\n",
      "call/put                      object\n",
      "style                         object\n",
      "ask                          float64\n",
      "bid                          float64\n",
      "mean price                   float64\n",
      "iv                           float64\n",
      "volume                         int64\n",
      "open interest                  int64\n",
      "stock price for iv           float64\n",
      "delta                        float64\n",
      "vega                         float64\n",
      "gamma                        float64\n",
      "theta                        float64\n",
      "rho                          float64\n",
      "dtype: object\n"
     ]
    }
   ],
   "source": [
    "# Checking the data types again to see the changed data type of date and expiration\n",
    "print(df.dtypes)"
   ]
  },
  {
   "cell_type": "markdown",
   "id": "9f0bc752",
   "metadata": {},
   "source": [
    "### Principal Component Analysis(PCA)"
   ]
  },
  {
   "cell_type": "markdown",
   "id": "1863cce0",
   "metadata": {},
   "source": [
    "#### Principal Component Analysis (PCA) is a popular unsupervised learning technique for reducing the dimensionality of large data sets. It increases interpretability yet, at the same time, it minimizes information loss."
   ]
  },
  {
   "cell_type": "code",
   "execution_count": 10,
   "id": "5d838536",
   "metadata": {},
   "outputs": [],
   "source": [
    "# Selecting only numerical features (excluding symbol, date, and option symbol). \n",
    "# we have used select_dtypes function for selecting the columns with the numerical value only because the PCA only use numerical data \n",
    "numerical_features = df.select_dtypes(include=[np.number]).columns"
   ]
  },
  {
   "cell_type": "code",
   "execution_count": 11,
   "id": "e6a93ebf",
   "metadata": {},
   "outputs": [],
   "source": [
    "# Create a PCA object\n",
    "pca = PCA(n_components=0.9)"
   ]
  },
  {
   "cell_type": "code",
   "execution_count": 12,
   "id": "1e3a58d9",
   "metadata": {},
   "outputs": [],
   "source": [
    "# Applying Principal Component Analysis (PCA) to the numerical features of the dataset df and \n",
    "# transforms the data into a lower-dimensional representation(Dimensionality reduction)\n",
    "# Here we have used fit_transfor instead of fit because we need to also reduce the dimensionality, the fit() doesn't do it.\n",
    "X_pca = pca.fit_transform(df[numerical_features])\n",
    "\n",
    "# This will help us reduce the number of features in the dataset, which can improve model performance and reduce overfitting. \n",
    "# Identify the most important features in the dataset, which can help to understand the underlying structure of the data."
   ]
  },
  {
   "cell_type": "code",
   "execution_count": 13,
   "id": "97c67903",
   "metadata": {},
   "outputs": [
    {
     "name": "stdout",
     "output_type": "stream",
     "text": [
      "Explained Variance Ratio:\n",
      "[0.6238646  0.37582501]\n"
     ]
    }
   ],
   "source": [
    "# In here, the varience refers to how much information (variance) is retained by the selected principal components.\n",
    "# The explained variance ratio indicates how much of the total variance in the dataset is captured by each principal component.\n",
    "# This helps in understanding the importance of each component in explaining the data and also identify the important features.\n",
    "feature_importance = pca.explained_variance_ratio_\n",
    "\n",
    "# Print the explained variance ratio for each principal component\n",
    "print(\"Explained Variance Ratio:\")\n",
    "print(feature_importance)"
   ]
  },
  {
   "cell_type": "code",
   "execution_count": 14,
   "id": "c711622c",
   "metadata": {},
   "outputs": [
    {
     "name": "stdout",
     "output_type": "stream",
     "text": [
      "Principal Components:\n",
      "[[ 3.11790501e-06 -6.63293932e-04 -1.42322508e-03 -1.39838102e-03\n",
      "  -1.41074922e-03 -1.55729019e-06  4.02783705e-01  9.15291689e-01\n",
      "   3.12873435e-06 -1.90285128e-06 -5.36857606e-06  2.42352696e-07\n",
      "  -1.16968352e-06  5.50570903e-06]\n",
      " [-9.65425893e-06  1.00863603e-03  2.94481613e-04  2.88615078e-04\n",
      "   2.91527957e-04 -5.62788258e-06  9.15294807e-01 -4.02782998e-01\n",
      "  -9.69498211e-06 -4.92142587e-07 -2.47357523e-06  4.29057852e-07\n",
      "  -1.31176164e-06 -2.91066752e-06]]\n"
     ]
    }
   ],
   "source": [
    "# In here, the PCA converted our 14 Feature which were numerical to the two new feature called PCA components as it is reduction technique\n",
    "# Get the principal components from the 'pca' object\n",
    "# This code help us understand the relationship between the original variables and the principal components.\n",
    "principal_components = pca.components_\n",
    "\n",
    "print(\"Principal Components:\")\n",
    "print(principal_components)"
   ]
  },
  {
   "cell_type": "code",
   "execution_count": 15,
   "id": "059c9d43",
   "metadata": {},
   "outputs": [
    {
     "name": "stdout",
     "output_type": "stream",
     "text": [
      "Cumulative Explained Variance Ratio:\n",
      "[0.6238646  0.99968961]\n"
     ]
    }
   ],
   "source": [
    "# Print the cumulative explained variance ratio\n",
    "print(\"Cumulative Explained Variance Ratio:\")\n",
    "print(np.cumsum(feature_importance))"
   ]
  },
  {
   "cell_type": "code",
   "execution_count": 16,
   "id": "3ecae1d8",
   "metadata": {},
   "outputs": [
    {
     "name": "stdout",
     "output_type": "stream",
     "text": [
      "Important Features:\n",
      "Index(['adjusted close'], dtype='object')\n"
     ]
    }
   ],
   "source": [
    "# Identify the features that contribute to 90% of the information\n",
    "# The argsort is used for sorting the array\n",
    "# [::-1]: This slice reverses the order of the indices, so that the most important features are at the beginning of the array.\n",
    "# [:int(0.9 * len(feature_importance))]: This slice selects the top 90% of the features based on their importance. \n",
    "important_features = np.argsort(feature_importance)[::-1][:int(0.9 * len(feature_importance))]\n",
    "print(\"Important Features:\")\n",
    "print(numerical_features[important_features])"
   ]
  },
  {
   "cell_type": "markdown",
   "id": "4d92b3e8",
   "metadata": {},
   "source": [
    "#### The 'adjusted close' contibutes to 90% of information in the dataset."
   ]
  },
  {
   "cell_type": "code",
   "execution_count": 17,
   "id": "3e1c42d5",
   "metadata": {},
   "outputs": [],
   "source": [
    "# Create a new DataFrame with the original data and the PCA-transformed data\n",
    "pca_df = pd.DataFrame(X_pca, columns=[f\"PC{i+1}\" for i in range(X_pca.shape[1])])\n",
    "pca_df = pd.concat([df[['symbol', 'date', 'option symbol']], pca_df], axis=1)"
   ]
  },
  {
   "cell_type": "code",
   "execution_count": 18,
   "id": "f36c58ad",
   "metadata": {
    "scrolled": true
   },
   "outputs": [
    {
     "data": {
      "text/html": [
       "<div>\n",
       "<style scoped>\n",
       "    .dataframe tbody tr th:only-of-type {\n",
       "        vertical-align: middle;\n",
       "    }\n",
       "\n",
       "    .dataframe tbody tr th {\n",
       "        vertical-align: top;\n",
       "    }\n",
       "\n",
       "    .dataframe thead th {\n",
       "        text-align: right;\n",
       "    }\n",
       "</style>\n",
       "<table border=\"1\" class=\"dataframe\">\n",
       "  <thead>\n",
       "    <tr style=\"text-align: right;\">\n",
       "      <th></th>\n",
       "      <th>symbol</th>\n",
       "      <th>date</th>\n",
       "      <th>option symbol</th>\n",
       "      <th>PC1</th>\n",
       "      <th>PC2</th>\n",
       "    </tr>\n",
       "  </thead>\n",
       "  <tbody>\n",
       "    <tr>\n",
       "      <th>0</th>\n",
       "      <td>SPY</td>\n",
       "      <td>2021-07-30</td>\n",
       "      <td>SPY   210730C00215000</td>\n",
       "      <td>-1684.131537</td>\n",
       "      <td>297.544215</td>\n",
       "    </tr>\n",
       "    <tr>\n",
       "      <th>1</th>\n",
       "      <td>SPY</td>\n",
       "      <td>2021-07-30</td>\n",
       "      <td>SPY   210730P00215000</td>\n",
       "      <td>-400.860024</td>\n",
       "      <td>-266.950643</td>\n",
       "    </tr>\n",
       "    <tr>\n",
       "      <th>2</th>\n",
       "      <td>SPY</td>\n",
       "      <td>2021-07-30</td>\n",
       "      <td>SPY   210730C00220000</td>\n",
       "      <td>-1683.198400</td>\n",
       "      <td>297.142102</td>\n",
       "    </tr>\n",
       "    <tr>\n",
       "      <th>3</th>\n",
       "      <td>SPY</td>\n",
       "      <td>2021-07-30</td>\n",
       "      <td>SPY   210730P00220000</td>\n",
       "      <td>-1362.832137</td>\n",
       "      <td>211.005298</td>\n",
       "    </tr>\n",
       "    <tr>\n",
       "      <th>4</th>\n",
       "      <td>SPY</td>\n",
       "      <td>2021-07-30</td>\n",
       "      <td>SPY   210730C00225000</td>\n",
       "      <td>-1684.095847</td>\n",
       "      <td>297.545555</td>\n",
       "    </tr>\n",
       "  </tbody>\n",
       "</table>\n",
       "</div>"
      ],
      "text/plain": [
       "  symbol       date          option symbol          PC1         PC2\n",
       "0    SPY 2021-07-30  SPY   210730C00215000 -1684.131537  297.544215\n",
       "1    SPY 2021-07-30  SPY   210730P00215000  -400.860024 -266.950643\n",
       "2    SPY 2021-07-30  SPY   210730C00220000 -1683.198400  297.142102\n",
       "3    SPY 2021-07-30  SPY   210730P00220000 -1362.832137  211.005298\n",
       "4    SPY 2021-07-30  SPY   210730C00225000 -1684.095847  297.545555"
      ]
     },
     "execution_count": 18,
     "metadata": {},
     "output_type": "execute_result"
    }
   ],
   "source": [
    "pca_df.head()"
   ]
  },
  {
   "cell_type": "code",
   "execution_count": 19,
   "id": "647ade75",
   "metadata": {},
   "outputs": [
    {
     "name": "stdout",
     "output_type": "stream",
     "text": [
      "<class 'pandas.core.frame.DataFrame'>\n",
      "RangeIndex: 221046 entries, 0 to 221045\n",
      "Data columns (total 5 columns):\n",
      " #   Column         Non-Null Count   Dtype         \n",
      "---  ------         --------------   -----         \n",
      " 0   symbol         221046 non-null  object        \n",
      " 1   date           221046 non-null  datetime64[ns]\n",
      " 2   option symbol  221046 non-null  object        \n",
      " 3   PC1            221046 non-null  float64       \n",
      " 4   PC2            221046 non-null  float64       \n",
      "dtypes: datetime64[ns](1), float64(2), object(2)\n",
      "memory usage: 8.4+ MB\n"
     ]
    }
   ],
   "source": [
    "pca_df.info()"
   ]
  },
  {
   "cell_type": "code",
   "execution_count": 20,
   "id": "6f9c88ae",
   "metadata": {},
   "outputs": [
    {
     "data": {
      "text/html": [
       "<div>\n",
       "<style scoped>\n",
       "    .dataframe tbody tr th:only-of-type {\n",
       "        vertical-align: middle;\n",
       "    }\n",
       "\n",
       "    .dataframe tbody tr th {\n",
       "        vertical-align: top;\n",
       "    }\n",
       "\n",
       "    .dataframe thead th {\n",
       "        text-align: right;\n",
       "    }\n",
       "</style>\n",
       "<table border=\"1\" class=\"dataframe\">\n",
       "  <thead>\n",
       "    <tr style=\"text-align: right;\">\n",
       "      <th></th>\n",
       "      <th>date</th>\n",
       "      <th>PC1</th>\n",
       "      <th>PC2</th>\n",
       "    </tr>\n",
       "  </thead>\n",
       "  <tbody>\n",
       "    <tr>\n",
       "      <th>count</th>\n",
       "      <td>221046</td>\n",
       "      <td>2.210460e+05</td>\n",
       "      <td>2.210460e+05</td>\n",
       "    </tr>\n",
       "    <tr>\n",
       "      <th>mean</th>\n",
       "      <td>2021-07-16 12:04:43.379930624</td>\n",
       "      <td>4.634578e-14</td>\n",
       "      <td>-6.214547e-14</td>\n",
       "    </tr>\n",
       "    <tr>\n",
       "      <th>min</th>\n",
       "      <td>2021-07-01 00:00:00</td>\n",
       "      <td>-1.684819e+03</td>\n",
       "      <td>-6.716804e+04</td>\n",
       "    </tr>\n",
       "    <tr>\n",
       "      <th>25%</th>\n",
       "      <td>2021-07-09 00:00:00</td>\n",
       "      <td>-1.681889e+03</td>\n",
       "      <td>3.763409e+01</td>\n",
       "    </tr>\n",
       "    <tr>\n",
       "      <th>50%</th>\n",
       "      <td>2021-07-16 00:00:00</td>\n",
       "      <td>-1.583735e+03</td>\n",
       "      <td>2.807696e+02</td>\n",
       "    </tr>\n",
       "    <tr>\n",
       "      <th>75%</th>\n",
       "      <td>2021-07-23 00:00:00</td>\n",
       "      <td>-7.836607e+02</td>\n",
       "      <td>2.975625e+02</td>\n",
       "    </tr>\n",
       "    <tr>\n",
       "      <th>max</th>\n",
       "      <td>2021-07-30 00:00:00</td>\n",
       "      <td>2.311390e+05</td>\n",
       "      <td>3.854802e+05</td>\n",
       "    </tr>\n",
       "    <tr>\n",
       "      <th>std</th>\n",
       "      <td>NaN</td>\n",
       "      <td>6.245466e+03</td>\n",
       "      <td>4.847441e+03</td>\n",
       "    </tr>\n",
       "  </tbody>\n",
       "</table>\n",
       "</div>"
      ],
      "text/plain": [
       "                                date           PC1           PC2\n",
       "count                         221046  2.210460e+05  2.210460e+05\n",
       "mean   2021-07-16 12:04:43.379930624  4.634578e-14 -6.214547e-14\n",
       "min              2021-07-01 00:00:00 -1.684819e+03 -6.716804e+04\n",
       "25%              2021-07-09 00:00:00 -1.681889e+03  3.763409e+01\n",
       "50%              2021-07-16 00:00:00 -1.583735e+03  2.807696e+02\n",
       "75%              2021-07-23 00:00:00 -7.836607e+02  2.975625e+02\n",
       "max              2021-07-30 00:00:00  2.311390e+05  3.854802e+05\n",
       "std                              NaN  6.245466e+03  4.847441e+03"
      ]
     },
     "execution_count": 20,
     "metadata": {},
     "output_type": "execute_result"
    }
   ],
   "source": [
    "pca_df.describe()"
   ]
  },
  {
   "cell_type": "code",
   "execution_count": 21,
   "id": "6281e913",
   "metadata": {},
   "outputs": [],
   "source": [
    "# Create a new model that only uses these important features\n",
    "important_data = df[numerical_features[important_features]]"
   ]
  },
  {
   "cell_type": "code",
   "execution_count": 22,
   "id": "165ff504",
   "metadata": {},
   "outputs": [],
   "source": [
    "# Split the data into training and testing sets\n",
    "X_train, X_test, y_train, y_test = train_test_split(X_pca, df['bid'], test_size=0.2, random_state=42)\n",
    "\n",
    "# Define hyperparameters\n",
    "n_estimators = 50  # Increased from 10 to 50\n",
    "max_depth = 5  # Set max_depth to 5\n",
    "min_samples_split = 5  # Increased from 2 to 5\n",
    "min_samples_leaf = 2  # Increased from 1 to 2\n",
    "\n",
    "new_model = RandomForestRegressor(n_estimators=n_estimators,\n",
    "                                  max_depth=max_depth,\n",
    "                                  min_samples_split=min_samples_split,\n",
    "                                  min_samples_leaf=min_samples_leaf,\n",
    "                                  random_state=42)"
   ]
  },
  {
   "cell_type": "code",
   "execution_count": 23,
   "id": "9b7e64e1",
   "metadata": {},
   "outputs": [
    {
     "name": "stdout",
     "output_type": "stream",
     "text": [
      "Mean Squared Error of training set: 1402.1624495101853\n",
      "R-squared of training set: 0.6112504389358295\n",
      "Mean Squared Error of testing set: 1363.1412080753707\n",
      "R-squared of testing set: 0.6103496004987162\n"
     ]
    }
   ],
   "source": [
    "new_model.fit(X_train, y_train)\n",
    "new_model_accuracy = new_model.score(X_test, y_test)\n",
    "\n",
    "# Evaluate the model on the Training set\n",
    "y_pred = new_model.predict(X_train)\n",
    "mse = mean_squared_error(y_train, y_pred)  \n",
    "r2 = r2_score(y_train, y_pred)  \n",
    "\n",
    "# Print evaluation metrics\n",
    "print(f\"Mean Squared Error of training set: {mse}\")\n",
    "print(f\"R-squared of training set: {r2}\")\n",
    "\n",
    "# Evaluate the model on the testing set\n",
    "y_pred = new_model.predict(X_test)\n",
    "mse = mean_squared_error(y_test, y_pred)  \n",
    "r2 = r2_score(y_test, y_pred)  \n",
    "\n",
    "# Print evaluation metrics\n",
    "print(f\"Mean Squared Error of testing set: {mse}\")\n",
    "print(f\"R-squared of testing set: {r2}\")"
   ]
  },
  {
   "cell_type": "markdown",
   "id": "06d86064",
   "metadata": {},
   "source": [
    "* Mean Squared Error (MSE):\n",
    "\n",
    "    With PCA: MSE is much higher for both training and testing sets (1402.16 and 1363.14, respectively).\n",
    "    Without PCA: MSE is much lower for both training and testing sets (0.00226 and 0.01254, respectively).\n",
    "    Lower MSE values indicate better performance, so Withoutn PCA it has a significant advantage in terms of MSE.\n",
    "    \n",
    "    \n",
    "* R-squared (R²):\n",
    "    \n",
    "    With PCA: R² values are moderate for both training and testing sets (0.61125 and 0.61035, respectively).\n",
    "    Without PCA: R² values are extremely high for both training and testing sets (0.99999 and 0.99999, respectively).\n",
    "    Higher R² values indicate better performance, so Activity 2 has a significant advantage in terms of R².\n",
    "\n",
    "\n",
    "* Comparison:\n",
    "\n",
    "    Overall, Without PCA has significantly better performance metrics than With PCA. The MSE values are much lower, and the R² values are much higher. This suggests that the model in Without PCA is a better fit for the data and generalizes well to new data.\n",
    "\n",
    "    In contrast, the model with PCA has higher MSE values and lower R² values, indicating that it may not be as effective in predicting the target variable.\n",
    "\n",
    "    Therefore, based on these metrics, without PCA is the better model. **"
   ]
  },
  {
   "cell_type": "code",
   "execution_count": null,
   "id": "e6508673",
   "metadata": {},
   "outputs": [],
   "source": []
  }
 ],
 "metadata": {
  "kernelspec": {
   "display_name": "Python 3 (ipykernel)",
   "language": "python",
   "name": "python3"
  },
  "language_info": {
   "codemirror_mode": {
    "name": "ipython",
    "version": 3
   },
   "file_extension": ".py",
   "mimetype": "text/x-python",
   "name": "python",
   "nbconvert_exporter": "python",
   "pygments_lexer": "ipython3",
   "version": "3.11.5"
  }
 },
 "nbformat": 4,
 "nbformat_minor": 5
}
